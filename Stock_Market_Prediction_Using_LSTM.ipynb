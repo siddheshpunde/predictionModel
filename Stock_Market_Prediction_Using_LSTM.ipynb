{
  "nbformat": 4,
  "nbformat_minor": 0,
  "metadata": {
    "colab": {
      "name": "Stock Market Prediction Using  LSTM",
      "provenance": [],
      "collapsed_sections": []
    },
    "kernelspec": {
      "name": "python3",
      "display_name": "Python 3"
    },
    "language_info": {
      "name": "python"
    }
  },
  "cells": [
    {
      "cell_type": "code",
      "execution_count": 1,
      "metadata": {
        "id": "EIASoLRDU0th"
      },
      "outputs": [],
      "source": [
        "import pandas as pd\n",
        "import numpy as np\n",
        "import matplotlib.pyplot as plt\n",
        "%matplotlib inline\n",
        "from matplotlib.pylab import rcParams\n",
        "rcParams['figure.figsize']=20,10\n",
        "from keras.models import Sequential\n",
        "from keras.layers import LSTM,Dropout,Dense\n",
        "from sklearn.preprocessing import MinMaxScaler"
      ]
    },
    {
      "cell_type": "code",
      "source": [
        "df=pd.read_csv(\"/content/NSE-Tata-Global-Beverages-Limited.csv\")\n",
        "df.head()"
      ],
      "metadata": {
        "colab": {
          "base_uri": "https://localhost:8080/",
          "height": 206
        },
        "id": "ildaXRSoXz3q",
        "outputId": "61bd3df8-7c58-4c49-c4e9-65d25e2d3f78"
      },
      "execution_count": 2,
      "outputs": [
        {
          "output_type": "execute_result",
          "data": {
            "text/plain": [
              "         Date    Open    High     Low    Last   Close  Total Trade Quantity  \\\n",
              "0  2018-10-08  208.00  222.25  206.85  216.00  215.15             4642146.0   \n",
              "1  2018-10-05  217.00  218.60  205.90  210.25  209.20             3519515.0   \n",
              "2  2018-10-04  223.50  227.80  216.15  217.25  218.20             1728786.0   \n",
              "3  2018-10-03  230.00  237.50  225.75  226.45  227.60             1708590.0   \n",
              "4  2018-10-01  234.55  234.60  221.05  230.30  230.90             1534749.0   \n",
              "\n",
              "   Turnover (Lacs)  \n",
              "0         10062.83  \n",
              "1          7407.06  \n",
              "2          3815.79  \n",
              "3          3960.27  \n",
              "4          3486.05  "
            ],
            "text/html": [
              "\n",
              "  <div id=\"df-4dfdcb16-c738-4653-8dca-d7ee80cc1b8d\">\n",
              "    <div class=\"colab-df-container\">\n",
              "      <div>\n",
              "<style scoped>\n",
              "    .dataframe tbody tr th:only-of-type {\n",
              "        vertical-align: middle;\n",
              "    }\n",
              "\n",
              "    .dataframe tbody tr th {\n",
              "        vertical-align: top;\n",
              "    }\n",
              "\n",
              "    .dataframe thead th {\n",
              "        text-align: right;\n",
              "    }\n",
              "</style>\n",
              "<table border=\"1\" class=\"dataframe\">\n",
              "  <thead>\n",
              "    <tr style=\"text-align: right;\">\n",
              "      <th></th>\n",
              "      <th>Date</th>\n",
              "      <th>Open</th>\n",
              "      <th>High</th>\n",
              "      <th>Low</th>\n",
              "      <th>Last</th>\n",
              "      <th>Close</th>\n",
              "      <th>Total Trade Quantity</th>\n",
              "      <th>Turnover (Lacs)</th>\n",
              "    </tr>\n",
              "  </thead>\n",
              "  <tbody>\n",
              "    <tr>\n",
              "      <th>0</th>\n",
              "      <td>2018-10-08</td>\n",
              "      <td>208.00</td>\n",
              "      <td>222.25</td>\n",
              "      <td>206.85</td>\n",
              "      <td>216.00</td>\n",
              "      <td>215.15</td>\n",
              "      <td>4642146.0</td>\n",
              "      <td>10062.83</td>\n",
              "    </tr>\n",
              "    <tr>\n",
              "      <th>1</th>\n",
              "      <td>2018-10-05</td>\n",
              "      <td>217.00</td>\n",
              "      <td>218.60</td>\n",
              "      <td>205.90</td>\n",
              "      <td>210.25</td>\n",
              "      <td>209.20</td>\n",
              "      <td>3519515.0</td>\n",
              "      <td>7407.06</td>\n",
              "    </tr>\n",
              "    <tr>\n",
              "      <th>2</th>\n",
              "      <td>2018-10-04</td>\n",
              "      <td>223.50</td>\n",
              "      <td>227.80</td>\n",
              "      <td>216.15</td>\n",
              "      <td>217.25</td>\n",
              "      <td>218.20</td>\n",
              "      <td>1728786.0</td>\n",
              "      <td>3815.79</td>\n",
              "    </tr>\n",
              "    <tr>\n",
              "      <th>3</th>\n",
              "      <td>2018-10-03</td>\n",
              "      <td>230.00</td>\n",
              "      <td>237.50</td>\n",
              "      <td>225.75</td>\n",
              "      <td>226.45</td>\n",
              "      <td>227.60</td>\n",
              "      <td>1708590.0</td>\n",
              "      <td>3960.27</td>\n",
              "    </tr>\n",
              "    <tr>\n",
              "      <th>4</th>\n",
              "      <td>2018-10-01</td>\n",
              "      <td>234.55</td>\n",
              "      <td>234.60</td>\n",
              "      <td>221.05</td>\n",
              "      <td>230.30</td>\n",
              "      <td>230.90</td>\n",
              "      <td>1534749.0</td>\n",
              "      <td>3486.05</td>\n",
              "    </tr>\n",
              "  </tbody>\n",
              "</table>\n",
              "</div>\n",
              "      <button class=\"colab-df-convert\" onclick=\"convertToInteractive('df-4dfdcb16-c738-4653-8dca-d7ee80cc1b8d')\"\n",
              "              title=\"Convert this dataframe to an interactive table.\"\n",
              "              style=\"display:none;\">\n",
              "        \n",
              "  <svg xmlns=\"http://www.w3.org/2000/svg\" height=\"24px\"viewBox=\"0 0 24 24\"\n",
              "       width=\"24px\">\n",
              "    <path d=\"M0 0h24v24H0V0z\" fill=\"none\"/>\n",
              "    <path d=\"M18.56 5.44l.94 2.06.94-2.06 2.06-.94-2.06-.94-.94-2.06-.94 2.06-2.06.94zm-11 1L8.5 8.5l.94-2.06 2.06-.94-2.06-.94L8.5 2.5l-.94 2.06-2.06.94zm10 10l.94 2.06.94-2.06 2.06-.94-2.06-.94-.94-2.06-.94 2.06-2.06.94z\"/><path d=\"M17.41 7.96l-1.37-1.37c-.4-.4-.92-.59-1.43-.59-.52 0-1.04.2-1.43.59L10.3 9.45l-7.72 7.72c-.78.78-.78 2.05 0 2.83L4 21.41c.39.39.9.59 1.41.59.51 0 1.02-.2 1.41-.59l7.78-7.78 2.81-2.81c.8-.78.8-2.07 0-2.86zM5.41 20L4 18.59l7.72-7.72 1.47 1.35L5.41 20z\"/>\n",
              "  </svg>\n",
              "      </button>\n",
              "      \n",
              "  <style>\n",
              "    .colab-df-container {\n",
              "      display:flex;\n",
              "      flex-wrap:wrap;\n",
              "      gap: 12px;\n",
              "    }\n",
              "\n",
              "    .colab-df-convert {\n",
              "      background-color: #E8F0FE;\n",
              "      border: none;\n",
              "      border-radius: 50%;\n",
              "      cursor: pointer;\n",
              "      display: none;\n",
              "      fill: #1967D2;\n",
              "      height: 32px;\n",
              "      padding: 0 0 0 0;\n",
              "      width: 32px;\n",
              "    }\n",
              "\n",
              "    .colab-df-convert:hover {\n",
              "      background-color: #E2EBFA;\n",
              "      box-shadow: 0px 1px 2px rgba(60, 64, 67, 0.3), 0px 1px 3px 1px rgba(60, 64, 67, 0.15);\n",
              "      fill: #174EA6;\n",
              "    }\n",
              "\n",
              "    [theme=dark] .colab-df-convert {\n",
              "      background-color: #3B4455;\n",
              "      fill: #D2E3FC;\n",
              "    }\n",
              "\n",
              "    [theme=dark] .colab-df-convert:hover {\n",
              "      background-color: #434B5C;\n",
              "      box-shadow: 0px 1px 3px 1px rgba(0, 0, 0, 0.15);\n",
              "      filter: drop-shadow(0px 1px 2px rgba(0, 0, 0, 0.3));\n",
              "      fill: #FFFFFF;\n",
              "    }\n",
              "  </style>\n",
              "\n",
              "      <script>\n",
              "        const buttonEl =\n",
              "          document.querySelector('#df-4dfdcb16-c738-4653-8dca-d7ee80cc1b8d button.colab-df-convert');\n",
              "        buttonEl.style.display =\n",
              "          google.colab.kernel.accessAllowed ? 'block' : 'none';\n",
              "\n",
              "        async function convertToInteractive(key) {\n",
              "          const element = document.querySelector('#df-4dfdcb16-c738-4653-8dca-d7ee80cc1b8d');\n",
              "          const dataTable =\n",
              "            await google.colab.kernel.invokeFunction('convertToInteractive',\n",
              "                                                     [key], {});\n",
              "          if (!dataTable) return;\n",
              "\n",
              "          const docLinkHtml = 'Like what you see? Visit the ' +\n",
              "            '<a target=\"_blank\" href=https://colab.research.google.com/notebooks/data_table.ipynb>data table notebook</a>'\n",
              "            + ' to learn more about interactive tables.';\n",
              "          element.innerHTML = '';\n",
              "          dataTable['output_type'] = 'display_data';\n",
              "          await google.colab.output.renderOutput(dataTable, element);\n",
              "          const docLink = document.createElement('div');\n",
              "          docLink.innerHTML = docLinkHtml;\n",
              "          element.appendChild(docLink);\n",
              "        }\n",
              "      </script>\n",
              "    </div>\n",
              "  </div>\n",
              "  "
            ]
          },
          "metadata": {},
          "execution_count": 2
        }
      ]
    },
    {
      "cell_type": "code",
      "source": [
        "df1=df.reset_index()['Close']\n"
      ],
      "metadata": {
        "id": "UnXxMg5TYAel"
      },
      "execution_count": 5,
      "outputs": []
    },
    {
      "cell_type": "code",
      "source": [
        "df1"
      ],
      "metadata": {
        "colab": {
          "base_uri": "https://localhost:8080/"
        },
        "id": "EpSE-bGuYJKc",
        "outputId": "eda47429-74c9-4375-b5a3-c5f335652e2f"
      },
      "execution_count": 6,
      "outputs": [
        {
          "output_type": "execute_result",
          "data": {
            "text/plain": [
              "0       215.15\n",
              "1       209.20\n",
              "2       218.20\n",
              "3       227.60\n",
              "4       230.90\n",
              "         ...  \n",
              "1230    159.45\n",
              "1231    160.05\n",
              "1232    160.15\n",
              "1233    155.55\n",
              "1234    155.80\n",
              "Name: Close, Length: 1235, dtype: float64"
            ]
          },
          "metadata": {},
          "execution_count": 6
        }
      ]
    },
    {
      "cell_type": "code",
      "source": [
        "df[\"Date\"]=pd.to_datetime(df.Date,format=\"%Y-%m-%d\")\n",
        "df.index=df['Date']\n",
        "plt.figure(figsize=(16,8))\n",
        "plt.plot(df[\"Close\"],label='Close Price history')"
      ],
      "metadata": {
        "colab": {
          "base_uri": "https://localhost:8080/",
          "height": 500
        },
        "id": "Pd4JhAU3YrFl",
        "outputId": "dbbac11b-40dc-4381-9d77-f92fb502184a"
      },
      "execution_count": 8,
      "outputs": [
        {
          "output_type": "execute_result",
          "data": {
            "text/plain": [
              "[<matplotlib.lines.Line2D at 0x7f3157288c10>]"
            ]
          },
          "metadata": {},
          "execution_count": 8
        },
        {
          "output_type": "display_data",
          "data": {
            "text/plain": [
              "<Figure size 1152x576 with 1 Axes>"
            ],
            "image/png": "[encoded data removed]"
          },
          "metadata": {
            "needs_background": "light"
          }
        }
      ]
    },
    {
      "cell_type": "code",
      "source": [
        "import matplotlib.pyplot as plt\n",
        "plt.plot(df1)"
      ],
      "metadata": {
        "colab": {
          "base_uri": "https://localhost:8080/",
          "height": 282
        },
        "id": "f0sCyzLOY4Z1",
        "outputId": "a7c74423-5efc-4b6d-e3e7-3a7bb3deb031"
      },
      "execution_count": 9,
      "outputs": [
        {
          "output_type": "execute_result",
          "data": {
            "text/plain": [
              "[<matplotlib.lines.Line2D at 0x7f315721ce50>]"
            ]
          },
          "metadata": {},
          "execution_count": 9
        },
        {
          "output_type": "display_data",
          "data": {
            "text/plain": [
              "<Figure size 432x288 with 1 Axes>"
            ],
            "image/png": "[encoded data removed]"
          },
          "metadata": {
            "needs_background": "light"
          }
        }
      ]
    },
    {
      "cell_type": "code",
      "source": [
        "from sklearn.preprocessing import MinMaxScaler\n",
        "scaler=MinMaxScaler(feature_range=(0,1))\n",
        "df1=scaler.fit_transform(np.array(df1).reshape(-1,1))"
      ],
      "metadata": {
        "id": "Z06L_HCiZCho"
      },
      "execution_count": 10,
      "outputs": []
    },
    {
      "cell_type": "code",
      "source": [
        "training_size=int(len(df1)*0.65)\n",
        "test_size=len(df1)-training_size\n",
        "train_data,test_data=df1[0:training_size,:],df1[training_size:len(df1),:1]"
      ],
      "metadata": {
        "id": "gRsRkRJsZMmw"
      },
      "execution_count": 11,
      "outputs": []
    },
    {
      "cell_type": "code",
      "source": [
        "import numpy\n",
        "# convert an array of values into a dataset matrix\n",
        "def create_dataset(dataset, time_step=1):\n",
        "\tdataX, dataY = [], []\n",
        "\tfor i in range(len(dataset)-time_step-1):\n",
        "\t\ta = dataset[i:(i+time_step), 0]   ###i=0, 0,1,2,3-----99   100 \n",
        "\t\tdataX.append(a)\n",
        "\t\tdataY.append(dataset[i + time_step, 0])\n",
        "\treturn numpy.array(dataX), numpy.array(dataY)"
      ],
      "metadata": {
        "id": "i5KFYo_CZRXL"
      },
      "execution_count": 12,
      "outputs": []
    },
    {
      "cell_type": "code",
      "source": [
        "time_step = 100\n",
        "X_train, y_train = create_dataset(train_data, time_step)\n",
        "X_test, ytest = create_dataset(test_data, time_step)"
      ],
      "metadata": {
        "id": "sv3y8NidZYqd"
      },
      "execution_count": 13,
      "outputs": []
    },
    {
      "cell_type": "code",
      "source": [
        "print(X_train.shape), print(y_train.shape)"
      ],
      "metadata": {
        "colab": {
          "base_uri": "https://localhost:8080/"
        },
        "id": "NwPIjw09Zc7K",
        "outputId": "ba8aeca8-09d7-4754-c681-58a2b52cd0a8"
      },
      "execution_count": 14,
      "outputs": [
        {
          "output_type": "stream",
          "name": "stdout",
          "text": [
            "(701, 100)\n",
            "(701,)\n"
          ]
        },
        {
          "output_type": "execute_result",
          "data": {
            "text/plain": [
              "(None, None)"
            ]
          },
          "metadata": {},
          "execution_count": 14
        }
      ]
    },
    {
      "cell_type": "code",
      "source": [
        "print(X_test.shape), print(ytest.shape)"
      ],
      "metadata": {
        "colab": {
          "base_uri": "https://localhost:8080/"
        },
        "id": "Wpgr5eCTZf6y",
        "outputId": "6fb0ca2a-19aa-4158-f0d6-ead58ddcca87"
      },
      "execution_count": 15,
      "outputs": [
        {
          "output_type": "stream",
          "name": "stdout",
          "text": [
            "(332, 100)\n",
            "(332,)\n"
          ]
        },
        {
          "output_type": "execute_result",
          "data": {
            "text/plain": [
              "(None, None)"
            ]
          },
          "metadata": {},
          "execution_count": 15
        }
      ]
    },
    {
      "cell_type": "code",
      "source": [
        "X_train =X_train.reshape(X_train.shape[0],X_train.shape[1] , 1)\n",
        "X_test = X_test.reshape(X_test.shape[0],X_test.shape[1] , 1)"
      ],
      "metadata": {
        "id": "RkUBW5_5ZkIn"
      },
      "execution_count": 16,
      "outputs": []
    },
    {
      "cell_type": "code",
      "source": [
        "from tensorflow.keras.models import Sequential\n",
        "from tensorflow.keras.layers import Dense\n",
        "from tensorflow.keras.layers import LSTM"
      ],
      "metadata": {
        "id": "FM-8zwZ9ZonC"
      },
      "execution_count": 17,
      "outputs": []
    },
    {
      "cell_type": "code",
      "source": [
        "model=Sequential()\n",
        "model.add(LSTM(50,return_sequences=True,input_shape=(100,1)))\n",
        "model.add(LSTM(50,return_sequences=True))\n",
        "model.add(LSTM(50))\n",
        "model.add(Dense(1))\n",
        "model.compile(loss='mean_squared_error',optimizer='adam')"
      ],
      "metadata": {
        "id": "VN9vR93KZssS"
      },
      "execution_count": 18,
      "outputs": []
    },
    {
      "cell_type": "code",
      "source": [
        "model.summary()"
      ],
      "metadata": {
        "colab": {
          "base_uri": "https://localhost:8080/"
        },
        "id": "HRsIVGw2ZxaB",
        "outputId": "af7b7eae-46d0-4bc4-b7ed-7234cc077709"
      },
      "execution_count": 19,
      "outputs": [
        {
          "output_type": "stream",
          "name": "stdout",
          "text": [
            "Model: \"sequential\"\n",
            "_________________________________________________________________\n",
            " Layer (type)                Output Shape              Param #   \n",
            "=================================================================\n",
            " lstm (LSTM)                 (None, 100, 50)           10400     \n",
            "                                                                 \n",
            " lstm_1 (LSTM)               (None, 100, 50)           20200     \n",
            "                                                                 \n",
            " lstm_2 (LSTM)               (None, 50)                20200     \n",
            "                                                                 \n",
            " dense (Dense)               (None, 1)                 51        \n",
            "                                                                 \n",
            "=================================================================\n",
            "Total params: 50,851\n",
            "Trainable params: 50,851\n",
            "Non-trainable params: 0\n",
            "_________________________________________________________________\n"
          ]
        }
      ]
    },
    {
      "cell_type": "code",
      "source": [
        "model.fit(X_train,y_train,validation_data=(X_test,ytest),epochs=100,batch_size=64,verbose=1)"
      ],
      "metadata": {
        "colab": {
          "base_uri": "https://localhost:8080/"
        },
        "id": "g8cp9s2WZ00j",
        "outputId": "13c21ccb-6d5e-4b93-f2fd-1c9507685ae6"
      },
      "execution_count": 21,
      "outputs": [
        {
          "output_type": "stream",
          "name": "stdout",
          "text": [
            "Epoch 1/100\n",
            "11/11 [==============================] - 2s 209ms/step - loss: 0.0022 - val_loss: 0.0010\n",
            "Epoch 2/100\n",
            "11/11 [==============================] - 2s 206ms/step - loss: 0.0021 - val_loss: 8.8524e-04\n",
            "Epoch 3/100\n",
            "11/11 [==============================] - 2s 204ms/step - loss: 0.0020 - val_loss: 9.5429e-04\n",
            "Epoch 4/100\n",
            "11/11 [==============================] - 2s 202ms/step - loss: 0.0020 - val_loss: 9.1549e-04\n",
            "Epoch 5/100\n",
            "11/11 [==============================] - 2s 204ms/step - loss: 0.0019 - val_loss: 9.2226e-04\n",
            "Epoch 6/100\n",
            "11/11 [==============================] - 2s 204ms/step - loss: 0.0018 - val_loss: 9.0433e-04\n",
            "Epoch 7/100\n",
            "11/11 [==============================] - 2s 208ms/step - loss: 0.0019 - val_loss: 0.0013\n",
            "Epoch 8/100\n",
            "11/11 [==============================] - 2s 206ms/step - loss: 0.0018 - val_loss: 8.5031e-04\n",
            "Epoch 9/100\n",
            "11/11 [==============================] - 2s 208ms/step - loss: 0.0017 - val_loss: 7.6973e-04\n",
            "Epoch 10/100\n",
            "11/11 [==============================] - 2s 205ms/step - loss: 0.0018 - val_loss: 7.5956e-04\n",
            "Epoch 11/100\n",
            "11/11 [==============================] - 2s 201ms/step - loss: 0.0019 - val_loss: 8.7857e-04\n",
            "Epoch 12/100\n",
            "11/11 [==============================] - 2s 203ms/step - loss: 0.0020 - val_loss: 0.0012\n",
            "Epoch 13/100\n",
            "11/11 [==============================] - 2s 203ms/step - loss: 0.0021 - val_loss: 8.8723e-04\n",
            "Epoch 14/100\n",
            "11/11 [==============================] - 2s 206ms/step - loss: 0.0017 - val_loss: 7.8238e-04\n",
            "Epoch 15/100\n",
            "11/11 [==============================] - 2s 201ms/step - loss: 0.0017 - val_loss: 7.7063e-04\n",
            "Epoch 16/100\n",
            "11/11 [==============================] - 2s 204ms/step - loss: 0.0015 - val_loss: 6.9964e-04\n",
            "Epoch 17/100\n",
            "11/11 [==============================] - 2s 206ms/step - loss: 0.0015 - val_loss: 7.2247e-04\n",
            "Epoch 18/100\n",
            "11/11 [==============================] - 2s 206ms/step - loss: 0.0015 - val_loss: 6.8851e-04\n",
            "Epoch 19/100\n",
            "11/11 [==============================] - 2s 209ms/step - loss: 0.0014 - val_loss: 6.8678e-04\n",
            "Epoch 20/100\n",
            "11/11 [==============================] - 2s 212ms/step - loss: 0.0014 - val_loss: 6.6512e-04\n",
            "Epoch 21/100\n",
            "11/11 [==============================] - 2s 207ms/step - loss: 0.0014 - val_loss: 6.6841e-04\n",
            "Epoch 22/100\n",
            "11/11 [==============================] - 2s 209ms/step - loss: 0.0014 - val_loss: 7.5976e-04\n",
            "Epoch 23/100\n",
            "11/11 [==============================] - 2s 204ms/step - loss: 0.0013 - val_loss: 6.5220e-04\n",
            "Epoch 24/100\n",
            "11/11 [==============================] - 2s 207ms/step - loss: 0.0013 - val_loss: 7.2277e-04\n",
            "Epoch 25/100\n",
            "11/11 [==============================] - 2s 206ms/step - loss: 0.0012 - val_loss: 7.9113e-04\n",
            "Epoch 26/100\n",
            "11/11 [==============================] - 2s 211ms/step - loss: 0.0013 - val_loss: 6.2097e-04\n",
            "Epoch 27/100\n",
            "11/11 [==============================] - 2s 208ms/step - loss: 0.0012 - val_loss: 6.0408e-04\n",
            "Epoch 28/100\n",
            "11/11 [==============================] - 2s 211ms/step - loss: 0.0012 - val_loss: 7.4861e-04\n",
            "Epoch 29/100\n",
            "11/11 [==============================] - 2s 206ms/step - loss: 0.0013 - val_loss: 7.1200e-04\n",
            "Epoch 30/100\n",
            "11/11 [==============================] - 2s 205ms/step - loss: 0.0011 - val_loss: 6.5600e-04\n",
            "Epoch 31/100\n",
            "11/11 [==============================] - 2s 207ms/step - loss: 0.0011 - val_loss: 7.1008e-04\n",
            "Epoch 32/100\n",
            "11/11 [==============================] - 2s 208ms/step - loss: 0.0011 - val_loss: 7.0792e-04\n",
            "Epoch 33/100\n",
            "11/11 [==============================] - 2s 213ms/step - loss: 0.0011 - val_loss: 5.7066e-04\n",
            "Epoch 34/100\n",
            "11/11 [==============================] - 2s 207ms/step - loss: 0.0011 - val_loss: 8.5498e-04\n",
            "Epoch 35/100\n",
            "11/11 [==============================] - 2s 210ms/step - loss: 0.0011 - val_loss: 5.8031e-04\n",
            "Epoch 36/100\n",
            "11/11 [==============================] - 2s 216ms/step - loss: 0.0012 - val_loss: 5.5537e-04\n",
            "Epoch 37/100\n",
            "11/11 [==============================] - 2s 212ms/step - loss: 0.0010 - val_loss: 8.1123e-04\n",
            "Epoch 38/100\n",
            "11/11 [==============================] - 3s 247ms/step - loss: 0.0010 - val_loss: 5.9203e-04\n",
            "Epoch 39/100\n",
            "11/11 [==============================] - 3s 252ms/step - loss: 0.0010 - val_loss: 7.0871e-04\n",
            "Epoch 40/100\n",
            "11/11 [==============================] - 2s 209ms/step - loss: 0.0010 - val_loss: 5.6552e-04\n",
            "Epoch 41/100\n",
            "11/11 [==============================] - 2s 210ms/step - loss: 0.0011 - val_loss: 6.4596e-04\n",
            "Epoch 42/100\n",
            "11/11 [==============================] - 2s 209ms/step - loss: 9.2897e-04 - val_loss: 5.6513e-04\n",
            "Epoch 43/100\n",
            "11/11 [==============================] - 2s 207ms/step - loss: 8.9726e-04 - val_loss: 5.8047e-04\n",
            "Epoch 44/100\n",
            "11/11 [==============================] - 2s 210ms/step - loss: 9.0077e-04 - val_loss: 5.5056e-04\n",
            "Epoch 45/100\n",
            "11/11 [==============================] - 2s 207ms/step - loss: 8.7476e-04 - val_loss: 5.7163e-04\n",
            "Epoch 46/100\n",
            "11/11 [==============================] - 2s 212ms/step - loss: 8.6718e-04 - val_loss: 5.0249e-04\n",
            "Epoch 47/100\n",
            "11/11 [==============================] - 2s 207ms/step - loss: 9.7600e-04 - val_loss: 9.8399e-04\n",
            "Epoch 48/100\n",
            "11/11 [==============================] - 2s 206ms/step - loss: 9.5501e-04 - val_loss: 5.3818e-04\n",
            "Epoch 49/100\n",
            "11/11 [==============================] - 2s 205ms/step - loss: 8.2276e-04 - val_loss: 5.1437e-04\n",
            "Epoch 50/100\n",
            "11/11 [==============================] - 2s 209ms/step - loss: 8.1432e-04 - val_loss: 5.3706e-04\n",
            "Epoch 51/100\n",
            "11/11 [==============================] - 2s 205ms/step - loss: 9.0340e-04 - val_loss: 4.9866e-04\n",
            "Epoch 52/100\n",
            "11/11 [==============================] - 2s 207ms/step - loss: 8.0889e-04 - val_loss: 6.1132e-04\n",
            "Epoch 53/100\n",
            "11/11 [==============================] - 2s 203ms/step - loss: 8.3456e-04 - val_loss: 5.3076e-04\n",
            "Epoch 54/100\n",
            "11/11 [==============================] - 2s 205ms/step - loss: 7.5012e-04 - val_loss: 5.4546e-04\n",
            "Epoch 55/100\n",
            "11/11 [==============================] - 2s 206ms/step - loss: 7.4524e-04 - val_loss: 5.2773e-04\n",
            "Epoch 56/100\n",
            "11/11 [==============================] - 2s 205ms/step - loss: 7.5649e-04 - val_loss: 6.6463e-04\n",
            "Epoch 57/100\n",
            "11/11 [==============================] - 2s 203ms/step - loss: 7.5517e-04 - val_loss: 4.4497e-04\n",
            "Epoch 58/100\n",
            "11/11 [==============================] - 2s 202ms/step - loss: 7.5705e-04 - val_loss: 4.8491e-04\n",
            "Epoch 59/100\n",
            "11/11 [==============================] - 2s 204ms/step - loss: 7.3492e-04 - val_loss: 5.3151e-04\n",
            "Epoch 60/100\n",
            "11/11 [==============================] - 2s 207ms/step - loss: 7.1358e-04 - val_loss: 5.4436e-04\n",
            "Epoch 61/100\n",
            "11/11 [==============================] - 2s 208ms/step - loss: 7.4985e-04 - val_loss: 5.5271e-04\n",
            "Epoch 62/100\n",
            "11/11 [==============================] - 2s 202ms/step - loss: 7.5946e-04 - val_loss: 4.2240e-04\n",
            "Epoch 63/100\n",
            "11/11 [==============================] - 2s 208ms/step - loss: 7.1793e-04 - val_loss: 4.9666e-04\n",
            "Epoch 64/100\n",
            "11/11 [==============================] - 2s 202ms/step - loss: 6.7352e-04 - val_loss: 4.5729e-04\n",
            "Epoch 65/100\n",
            "11/11 [==============================] - 2s 209ms/step - loss: 6.5215e-04 - val_loss: 4.7534e-04\n",
            "Epoch 66/100\n",
            "11/11 [==============================] - 2s 203ms/step - loss: 6.1436e-04 - val_loss: 4.0766e-04\n",
            "Epoch 67/100\n",
            "11/11 [==============================] - 2s 205ms/step - loss: 6.2119e-04 - val_loss: 4.7928e-04\n",
            "Epoch 68/100\n",
            "11/11 [==============================] - 2s 206ms/step - loss: 6.8654e-04 - val_loss: 3.8790e-04\n",
            "Epoch 69/100\n",
            "11/11 [==============================] - 2s 204ms/step - loss: 6.4961e-04 - val_loss: 3.9747e-04\n",
            "Epoch 70/100\n",
            "11/11 [==============================] - 2s 203ms/step - loss: 6.1537e-04 - val_loss: 5.0681e-04\n",
            "Epoch 71/100\n",
            "11/11 [==============================] - 2s 208ms/step - loss: 6.2474e-04 - val_loss: 3.7518e-04\n",
            "Epoch 72/100\n",
            "11/11 [==============================] - 2s 206ms/step - loss: 5.8812e-04 - val_loss: 3.8095e-04\n",
            "Epoch 73/100\n",
            "11/11 [==============================] - 2s 208ms/step - loss: 5.5373e-04 - val_loss: 3.6026e-04\n",
            "Epoch 74/100\n",
            "11/11 [==============================] - 2s 204ms/step - loss: 5.9790e-04 - val_loss: 3.7026e-04\n",
            "Epoch 75/100\n",
            "11/11 [==============================] - 2s 209ms/step - loss: 5.5922e-04 - val_loss: 6.9305e-04\n",
            "Epoch 76/100\n",
            "11/11 [==============================] - 2s 208ms/step - loss: 9.4023e-04 - val_loss: 3.4506e-04\n",
            "Epoch 77/100\n",
            "11/11 [==============================] - 2s 203ms/step - loss: 5.8993e-04 - val_loss: 3.4669e-04\n",
            "Epoch 78/100\n",
            "11/11 [==============================] - 2s 203ms/step - loss: 5.5162e-04 - val_loss: 3.6216e-04\n",
            "Epoch 79/100\n",
            "11/11 [==============================] - 2s 207ms/step - loss: 5.0509e-04 - val_loss: 4.1320e-04\n",
            "Epoch 80/100\n",
            "11/11 [==============================] - 2s 211ms/step - loss: 5.6557e-04 - val_loss: 3.7524e-04\n",
            "Epoch 81/100\n",
            "11/11 [==============================] - 2s 203ms/step - loss: 6.2242e-04 - val_loss: 4.1443e-04\n",
            "Epoch 82/100\n",
            "11/11 [==============================] - 2s 203ms/step - loss: 4.8838e-04 - val_loss: 3.3760e-04\n",
            "Epoch 83/100\n",
            "11/11 [==============================] - 2s 202ms/step - loss: 5.0082e-04 - val_loss: 4.1368e-04\n",
            "Epoch 84/100\n",
            "11/11 [==============================] - 2s 203ms/step - loss: 5.4018e-04 - val_loss: 3.5304e-04\n",
            "Epoch 85/100\n",
            "11/11 [==============================] - 2s 208ms/step - loss: 4.6472e-04 - val_loss: 3.2040e-04\n",
            "Epoch 86/100\n",
            "11/11 [==============================] - 2s 205ms/step - loss: 4.6924e-04 - val_loss: 3.3041e-04\n",
            "Epoch 87/100\n",
            "11/11 [==============================] - 2s 207ms/step - loss: 5.0893e-04 - val_loss: 4.2254e-04\n",
            "Epoch 88/100\n",
            "11/11 [==============================] - 2s 212ms/step - loss: 5.0023e-04 - val_loss: 3.6005e-04\n",
            "Epoch 89/100\n",
            "11/11 [==============================] - 2s 208ms/step - loss: 4.7108e-04 - val_loss: 2.9399e-04\n",
            "Epoch 90/100\n",
            "11/11 [==============================] - 2s 210ms/step - loss: 4.9483e-04 - val_loss: 3.1269e-04\n",
            "Epoch 91/100\n",
            "11/11 [==============================] - 2s 206ms/step - loss: 4.3999e-04 - val_loss: 2.9340e-04\n",
            "Epoch 92/100\n",
            "11/11 [==============================] - 2s 205ms/step - loss: 4.4366e-04 - val_loss: 3.6665e-04\n",
            "Epoch 93/100\n",
            "11/11 [==============================] - 2s 203ms/step - loss: 4.7604e-04 - val_loss: 3.4836e-04\n",
            "Epoch 94/100\n",
            "11/11 [==============================] - 2s 206ms/step - loss: 4.4298e-04 - val_loss: 2.9349e-04\n",
            "Epoch 95/100\n",
            "11/11 [==============================] - 2s 205ms/step - loss: 4.4264e-04 - val_loss: 2.9461e-04\n",
            "Epoch 96/100\n",
            "11/11 [==============================] - 2s 204ms/step - loss: 4.9778e-04 - val_loss: 2.7074e-04\n",
            "Epoch 97/100\n",
            "11/11 [==============================] - 2s 203ms/step - loss: 4.2828e-04 - val_loss: 2.9443e-04\n",
            "Epoch 98/100\n",
            "11/11 [==============================] - 2s 207ms/step - loss: 4.1245e-04 - val_loss: 3.3770e-04\n",
            "Epoch 99/100\n",
            "11/11 [==============================] - 2s 207ms/step - loss: 4.1030e-04 - val_loss: 2.6145e-04\n",
            "Epoch 100/100\n",
            "11/11 [==============================] - 2s 202ms/step - loss: 5.0080e-04 - val_loss: 2.6191e-04\n"
          ]
        },
        {
          "output_type": "execute_result",
          "data": {
            "text/plain": [
              "<keras.callbacks.History at 0x7f314da37f10>"
            ]
          },
          "metadata": {},
          "execution_count": 21
        }
      ]
    },
    {
      "cell_type": "code",
      "source": [
        "train_predict=model.predict(X_train)\n",
        "test_predict=model.predict(X_test)"
      ],
      "metadata": {
        "id": "1ax8wLSBZ_42"
      },
      "execution_count": 22,
      "outputs": []
    },
    {
      "cell_type": "code",
      "source": [
        "train_predict=scaler.inverse_transform(train_predict)\n",
        "test_predict=scaler.inverse_transform(test_predict)"
      ],
      "metadata": {
        "id": "eeZpnx1YmoyC"
      },
      "execution_count": 23,
      "outputs": []
    },
    {
      "cell_type": "code",
      "source": [
        "import math\n",
        "from sklearn.metrics import mean_squared_error\n",
        "math.sqrt(mean_squared_error(y_train,train_predict))"
      ],
      "metadata": {
        "colab": {
          "base_uri": "https://localhost:8080/"
        },
        "id": "9-VXyI_Wmtil",
        "outputId": "9990313e-2807-4f27-f7a5-c3d3e5d3e825"
      },
      "execution_count": 24,
      "outputs": [
        {
          "output_type": "execute_result",
          "data": {
            "text/plain": [
              "177.97987142708908"
            ]
          },
          "metadata": {},
          "execution_count": 24
        }
      ]
    },
    {
      "cell_type": "code",
      "source": [
        "math.sqrt(mean_squared_error(ytest,test_predict))"
      ],
      "metadata": {
        "colab": {
          "base_uri": "https://localhost:8080/"
        },
        "id": "DKKp2n2Fmyj3",
        "outputId": "52b7b93a-f260-4cc4-caa5-a3decae9f72c"
      },
      "execution_count": 25,
      "outputs": [
        {
          "output_type": "execute_result",
          "data": {
            "text/plain": [
              "153.51016111752185"
            ]
          },
          "metadata": {},
          "execution_count": 25
        }
      ]
    },
    {
      "cell_type": "code",
      "source": [
        "look_back=100\n",
        "trainPredictPlot = numpy.empty_like(df1)\n",
        "trainPredictPlot[:, :] = np.nan\n",
        "trainPredictPlot[look_back:len(train_predict)+look_back, :] = train_predict\n",
        "# shift test predictions for plotting\n",
        "testPredictPlot = numpy.empty_like(df1)\n",
        "testPredictPlot[:, :] = numpy.nan\n",
        "testPredictPlot[len(train_predict)+(look_back*2)+1:len(df1)-1, :] = test_predict\n",
        "# plot baseline and predictions\n",
        "plt.plot(scaler.inverse_transform(df1))\n",
        "plt.plot(trainPredictPlot)\n",
        "plt.plot(testPredictPlot)\n",
        "plt.show()"
      ],
      "metadata": {
        "colab": {
          "base_uri": "https://localhost:8080/",
          "height": 265
        },
        "id": "yvRp4Y_dm2Dz",
        "outputId": "b905491d-80fa-474f-f280-ffeed4baa16b"
      },
      "execution_count": 26,
      "outputs": [
        {
          "output_type": "display_data",
          "data": {
            "text/plain": [
              "<Figure size 432x288 with 1 Axes>"
            ],
            "image/png": "[encoded data removed]"
          },
          "metadata": {
            "needs_background": "light"
          }
        }
      ]
    },
    {
      "cell_type": "code",
      "source": [
        ""
      ],
      "metadata": {
        "id": "SrBOuAGGnOms"
      },
      "execution_count": null,
      "outputs": []
    }
  ]
}